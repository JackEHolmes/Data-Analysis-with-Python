{
 "cells": [
  {
   "cell_type": "code",
   "execution_count": 3,
   "metadata": {},
   "outputs": [],
   "source": [
    "import numpy as np\n",
    "import pandas as pd\n",
    "from pandas import Series, DataFrame"
   ]
  },
  {
   "cell_type": "markdown",
   "metadata": {},
   "source": [
    "# Series的排序"
   ]
  },
  {
   "cell_type": "code",
   "execution_count": 4,
   "metadata": {},
   "outputs": [
    {
     "data": {
      "text/plain": [
       "0    1.498211\n",
       "1   -0.789498\n",
       "2   -0.154964\n",
       "3   -0.909112\n",
       "4   -1.267422\n",
       "5    1.455239\n",
       "6    1.673811\n",
       "7   -0.088022\n",
       "8   -1.640540\n",
       "9    0.106137\n",
       "dtype: float64"
      ]
     },
     "execution_count": 4,
     "metadata": {},
     "output_type": "execute_result"
    }
   ],
   "source": [
    "s1 = Series(np.random.randn(10))\n",
    "s1"
   ]
  },
  {
   "cell_type": "code",
   "execution_count": 3,
   "metadata": {},
   "outputs": [
    {
     "data": {
      "text/plain": [
       "array([-1.27402741, -0.54449165,  1.15498633,  0.66812844, -0.40365035,\n",
       "       -1.32893458,  0.58700105,  0.14036672, -1.17490798, -0.07677016])"
      ]
     },
     "execution_count": 3,
     "metadata": {},
     "output_type": "execute_result"
    }
   ],
   "source": [
    "s1.values"
   ]
  },
  {
   "cell_type": "code",
   "execution_count": 5,
   "metadata": {},
   "outputs": [
    {
     "data": {
      "text/plain": [
       "RangeIndex(start=0, stop=10, step=1)"
      ]
     },
     "execution_count": 5,
     "metadata": {},
     "output_type": "execute_result"
    }
   ],
   "source": [
    "s1.index"
   ]
  },
  {
   "cell_type": "code",
   "execution_count": 5,
   "metadata": {},
   "outputs": [
    {
     "data": {
      "text/plain": [
       "6    1.673811\n",
       "0    1.498211\n",
       "5    1.455239\n",
       "9    0.106137\n",
       "7   -0.088022\n",
       "2   -0.154964\n",
       "1   -0.789498\n",
       "3   -0.909112\n",
       "4   -1.267422\n",
       "8   -1.640540\n",
       "dtype: float64"
      ]
     },
     "execution_count": 5,
     "metadata": {},
     "output_type": "execute_result"
    }
   ],
   "source": [
    "s2 = s1.sort_values(ascending=False)\n",
    "s2"
   ]
  },
  {
   "cell_type": "code",
   "execution_count": 6,
   "metadata": {},
   "outputs": [
    {
     "data": {
      "text/plain": [
       "0    1.673811\n",
       "1    1.498211\n",
       "2    1.455239\n",
       "3    0.106137\n",
       "4   -0.088022\n",
       "5   -0.154964\n",
       "6   -0.789498\n",
       "7   -0.909112\n",
       "8   -1.267422\n",
       "9   -1.640540\n",
       "dtype: float64"
      ]
     },
     "execution_count": 6,
     "metadata": {},
     "output_type": "execute_result"
    }
   ],
   "source": [
    "s3 = s2\n",
    "s3.index = np.arange(len(s3))\n",
    "s3"
   ]
  },
  {
   "cell_type": "code",
   "execution_count": 7,
   "metadata": {},
   "outputs": [
    {
     "data": {
      "text/plain": [
       "0    1.673811\n",
       "1    1.498211\n",
       "2    1.455239\n",
       "3    0.106137\n",
       "4   -0.088022\n",
       "5   -0.154964\n",
       "6   -0.789498\n",
       "7   -0.909112\n",
       "8   -1.267422\n",
       "9   -1.640540\n",
       "dtype: float64"
      ]
     },
     "execution_count": 7,
     "metadata": {},
     "output_type": "execute_result"
    }
   ],
   "source": [
    "s2.sort_index()"
   ]
  },
  {
   "cell_type": "markdown",
   "metadata": {},
   "source": [
    "# DataFrame的排序\n"
   ]
  },
  {
   "cell_type": "code",
   "execution_count": 8,
   "metadata": {},
   "outputs": [
    {
     "data": {
      "text/html": [
       "<div>\n",
       "<style scoped>\n",
       "    .dataframe tbody tr th:only-of-type {\n",
       "        vertical-align: middle;\n",
       "    }\n",
       "\n",
       "    .dataframe tbody tr th {\n",
       "        vertical-align: top;\n",
       "    }\n",
       "\n",
       "    .dataframe thead th {\n",
       "        text-align: right;\n",
       "    }\n",
       "</style>\n",
       "<table border=\"1\" class=\"dataframe\">\n",
       "  <thead>\n",
       "    <tr style=\"text-align: right;\">\n",
       "      <th></th>\n",
       "      <th>A</th>\n",
       "      <th>B</th>\n",
       "      <th>C</th>\n",
       "      <th>D</th>\n",
       "      <th>E</th>\n",
       "    </tr>\n",
       "  </thead>\n",
       "  <tbody>\n",
       "    <tr>\n",
       "      <th>0</th>\n",
       "      <td>-0.128719</td>\n",
       "      <td>-1.022379</td>\n",
       "      <td>0.083372</td>\n",
       "      <td>-0.056026</td>\n",
       "      <td>-0.845514</td>\n",
       "    </tr>\n",
       "    <tr>\n",
       "      <th>1</th>\n",
       "      <td>0.319171</td>\n",
       "      <td>0.028287</td>\n",
       "      <td>0.536058</td>\n",
       "      <td>1.400338</td>\n",
       "      <td>-0.906869</td>\n",
       "    </tr>\n",
       "    <tr>\n",
       "      <th>2</th>\n",
       "      <td>-0.166671</td>\n",
       "      <td>0.615700</td>\n",
       "      <td>0.023960</td>\n",
       "      <td>0.682290</td>\n",
       "      <td>-0.031399</td>\n",
       "    </tr>\n",
       "    <tr>\n",
       "      <th>3</th>\n",
       "      <td>-1.194785</td>\n",
       "      <td>-0.303032</td>\n",
       "      <td>-0.522234</td>\n",
       "      <td>-0.322942</td>\n",
       "      <td>-0.754814</td>\n",
       "    </tr>\n",
       "    <tr>\n",
       "      <th>4</th>\n",
       "      <td>0.741095</td>\n",
       "      <td>-0.821381</td>\n",
       "      <td>-0.361663</td>\n",
       "      <td>0.013911</td>\n",
       "      <td>-1.879231</td>\n",
       "    </tr>\n",
       "    <tr>\n",
       "      <th>5</th>\n",
       "      <td>0.174090</td>\n",
       "      <td>0.199085</td>\n",
       "      <td>0.181169</td>\n",
       "      <td>0.221252</td>\n",
       "      <td>0.379360</td>\n",
       "    </tr>\n",
       "    <tr>\n",
       "      <th>6</th>\n",
       "      <td>0.916209</td>\n",
       "      <td>0.309635</td>\n",
       "      <td>0.438348</td>\n",
       "      <td>0.576971</td>\n",
       "      <td>0.960201</td>\n",
       "    </tr>\n",
       "    <tr>\n",
       "      <th>7</th>\n",
       "      <td>-0.410149</td>\n",
       "      <td>0.002901</td>\n",
       "      <td>-0.404800</td>\n",
       "      <td>0.326608</td>\n",
       "      <td>1.281591</td>\n",
       "    </tr>\n",
       "  </tbody>\n",
       "</table>\n",
       "</div>"
      ],
      "text/plain": [
       "          A         B         C         D         E\n",
       "0 -0.128719 -1.022379  0.083372 -0.056026 -0.845514\n",
       "1  0.319171  0.028287  0.536058  1.400338 -0.906869\n",
       "2 -0.166671  0.615700  0.023960  0.682290 -0.031399\n",
       "3 -1.194785 -0.303032 -0.522234 -0.322942 -0.754814\n",
       "4  0.741095 -0.821381 -0.361663  0.013911 -1.879231\n",
       "5  0.174090  0.199085  0.181169  0.221252  0.379360\n",
       "6  0.916209  0.309635  0.438348  0.576971  0.960201\n",
       "7 -0.410149  0.002901 -0.404800  0.326608  1.281591"
      ]
     },
     "execution_count": 8,
     "metadata": {},
     "output_type": "execute_result"
    }
   ],
   "source": [
    "df1 = DataFrame(np.random.randn(40).reshape(8,5),\\\n",
    "                columns=['A','B','C','D','E'])\n",
    "df1"
   ]
  },
  {
   "cell_type": "code",
   "execution_count": 12,
   "metadata": {
    "scrolled": true
   },
   "outputs": [
    {
     "data": {
      "text/html": [
       "<div>\n",
       "<style scoped>\n",
       "    .dataframe tbody tr th:only-of-type {\n",
       "        vertical-align: middle;\n",
       "    }\n",
       "\n",
       "    .dataframe tbody tr th {\n",
       "        vertical-align: top;\n",
       "    }\n",
       "\n",
       "    .dataframe thead th {\n",
       "        text-align: right;\n",
       "    }\n",
       "</style>\n",
       "<table border=\"1\" class=\"dataframe\">\n",
       "  <thead>\n",
       "    <tr style=\"text-align: right;\">\n",
       "      <th></th>\n",
       "      <th>A</th>\n",
       "      <th>B</th>\n",
       "      <th>C</th>\n",
       "      <th>D</th>\n",
       "      <th>E</th>\n",
       "    </tr>\n",
       "  </thead>\n",
       "  <tbody>\n",
       "    <tr>\n",
       "      <th>3</th>\n",
       "      <td>-1.194785</td>\n",
       "      <td>-0.303032</td>\n",
       "      <td>-0.522234</td>\n",
       "      <td>-0.322942</td>\n",
       "      <td>-0.754814</td>\n",
       "    </tr>\n",
       "    <tr>\n",
       "      <th>7</th>\n",
       "      <td>-0.410149</td>\n",
       "      <td>0.002901</td>\n",
       "      <td>-0.404800</td>\n",
       "      <td>0.326608</td>\n",
       "      <td>1.281591</td>\n",
       "    </tr>\n",
       "    <tr>\n",
       "      <th>2</th>\n",
       "      <td>-0.166671</td>\n",
       "      <td>0.615700</td>\n",
       "      <td>0.023960</td>\n",
       "      <td>0.682290</td>\n",
       "      <td>-0.031399</td>\n",
       "    </tr>\n",
       "    <tr>\n",
       "      <th>0</th>\n",
       "      <td>-0.128719</td>\n",
       "      <td>-1.022379</td>\n",
       "      <td>0.083372</td>\n",
       "      <td>-0.056026</td>\n",
       "      <td>-0.845514</td>\n",
       "    </tr>\n",
       "    <tr>\n",
       "      <th>5</th>\n",
       "      <td>0.174090</td>\n",
       "      <td>0.199085</td>\n",
       "      <td>0.181169</td>\n",
       "      <td>0.221252</td>\n",
       "      <td>0.379360</td>\n",
       "    </tr>\n",
       "    <tr>\n",
       "      <th>1</th>\n",
       "      <td>0.319171</td>\n",
       "      <td>0.028287</td>\n",
       "      <td>0.536058</td>\n",
       "      <td>1.400338</td>\n",
       "      <td>-0.906869</td>\n",
       "    </tr>\n",
       "    <tr>\n",
       "      <th>4</th>\n",
       "      <td>0.741095</td>\n",
       "      <td>-0.821381</td>\n",
       "      <td>-0.361663</td>\n",
       "      <td>0.013911</td>\n",
       "      <td>-1.879231</td>\n",
       "    </tr>\n",
       "    <tr>\n",
       "      <th>6</th>\n",
       "      <td>0.916209</td>\n",
       "      <td>0.309635</td>\n",
       "      <td>0.438348</td>\n",
       "      <td>0.576971</td>\n",
       "      <td>0.960201</td>\n",
       "    </tr>\n",
       "  </tbody>\n",
       "</table>\n",
       "</div>"
      ],
      "text/plain": [
       "          A         B         C         D         E\n",
       "3 -1.194785 -0.303032 -0.522234 -0.322942 -0.754814\n",
       "7 -0.410149  0.002901 -0.404800  0.326608  1.281591\n",
       "2 -0.166671  0.615700  0.023960  0.682290 -0.031399\n",
       "0 -0.128719 -1.022379  0.083372 -0.056026 -0.845514\n",
       "5  0.174090  0.199085  0.181169  0.221252  0.379360\n",
       "1  0.319171  0.028287  0.536058  1.400338 -0.906869\n",
       "4  0.741095 -0.821381 -0.361663  0.013911 -1.879231\n",
       "6  0.916209  0.309635  0.438348  0.576971  0.960201"
      ]
     },
     "execution_count": 12,
     "metadata": {},
     "output_type": "execute_result"
    }
   ],
   "source": [
    "df2 = df1.sort_values('A')\n",
    "df2"
   ]
  },
  {
   "cell_type": "code",
   "execution_count": 13,
   "metadata": {},
   "outputs": [
    {
     "data": {
      "text/html": [
       "<div>\n",
       "<style scoped>\n",
       "    .dataframe tbody tr th:only-of-type {\n",
       "        vertical-align: middle;\n",
       "    }\n",
       "\n",
       "    .dataframe tbody tr th {\n",
       "        vertical-align: top;\n",
       "    }\n",
       "\n",
       "    .dataframe thead th {\n",
       "        text-align: right;\n",
       "    }\n",
       "</style>\n",
       "<table border=\"1\" class=\"dataframe\">\n",
       "  <thead>\n",
       "    <tr style=\"text-align: right;\">\n",
       "      <th></th>\n",
       "      <th>A</th>\n",
       "      <th>B</th>\n",
       "      <th>C</th>\n",
       "      <th>D</th>\n",
       "      <th>E</th>\n",
       "    </tr>\n",
       "  </thead>\n",
       "  <tbody>\n",
       "    <tr>\n",
       "      <th>0</th>\n",
       "      <td>-0.128719</td>\n",
       "      <td>-1.022379</td>\n",
       "      <td>0.083372</td>\n",
       "      <td>-0.056026</td>\n",
       "      <td>-0.845514</td>\n",
       "    </tr>\n",
       "    <tr>\n",
       "      <th>1</th>\n",
       "      <td>0.319171</td>\n",
       "      <td>0.028287</td>\n",
       "      <td>0.536058</td>\n",
       "      <td>1.400338</td>\n",
       "      <td>-0.906869</td>\n",
       "    </tr>\n",
       "    <tr>\n",
       "      <th>2</th>\n",
       "      <td>-0.166671</td>\n",
       "      <td>0.615700</td>\n",
       "      <td>0.023960</td>\n",
       "      <td>0.682290</td>\n",
       "      <td>-0.031399</td>\n",
       "    </tr>\n",
       "    <tr>\n",
       "      <th>3</th>\n",
       "      <td>-1.194785</td>\n",
       "      <td>-0.303032</td>\n",
       "      <td>-0.522234</td>\n",
       "      <td>-0.322942</td>\n",
       "      <td>-0.754814</td>\n",
       "    </tr>\n",
       "    <tr>\n",
       "      <th>4</th>\n",
       "      <td>0.741095</td>\n",
       "      <td>-0.821381</td>\n",
       "      <td>-0.361663</td>\n",
       "      <td>0.013911</td>\n",
       "      <td>-1.879231</td>\n",
       "    </tr>\n",
       "    <tr>\n",
       "      <th>5</th>\n",
       "      <td>0.174090</td>\n",
       "      <td>0.199085</td>\n",
       "      <td>0.181169</td>\n",
       "      <td>0.221252</td>\n",
       "      <td>0.379360</td>\n",
       "    </tr>\n",
       "    <tr>\n",
       "      <th>6</th>\n",
       "      <td>0.916209</td>\n",
       "      <td>0.309635</td>\n",
       "      <td>0.438348</td>\n",
       "      <td>0.576971</td>\n",
       "      <td>0.960201</td>\n",
       "    </tr>\n",
       "    <tr>\n",
       "      <th>7</th>\n",
       "      <td>-0.410149</td>\n",
       "      <td>0.002901</td>\n",
       "      <td>-0.404800</td>\n",
       "      <td>0.326608</td>\n",
       "      <td>1.281591</td>\n",
       "    </tr>\n",
       "  </tbody>\n",
       "</table>\n",
       "</div>"
      ],
      "text/plain": [
       "          A         B         C         D         E\n",
       "0 -0.128719 -1.022379  0.083372 -0.056026 -0.845514\n",
       "1  0.319171  0.028287  0.536058  1.400338 -0.906869\n",
       "2 -0.166671  0.615700  0.023960  0.682290 -0.031399\n",
       "3 -1.194785 -0.303032 -0.522234 -0.322942 -0.754814\n",
       "4  0.741095 -0.821381 -0.361663  0.013911 -1.879231\n",
       "5  0.174090  0.199085  0.181169  0.221252  0.379360\n",
       "6  0.916209  0.309635  0.438348  0.576971  0.960201\n",
       "7 -0.410149  0.002901 -0.404800  0.326608  1.281591"
      ]
     },
     "execution_count": 13,
     "metadata": {},
     "output_type": "execute_result"
    }
   ],
   "source": [
    "df2.sort_index()"
   ]
  }
 ],
 "metadata": {
  "kernelspec": {
   "display_name": "Python 3",
   "language": "python",
   "name": "python3"
  },
  "language_info": {
   "codemirror_mode": {
    "name": "ipython",
    "version": 3
   },
   "file_extension": ".py",
   "mimetype": "text/x-python",
   "name": "python",
   "nbconvert_exporter": "python",
   "pygments_lexer": "ipython3",
   "version": "3.6.6"
  }
 },
 "nbformat": 4,
 "nbformat_minor": 2
}
